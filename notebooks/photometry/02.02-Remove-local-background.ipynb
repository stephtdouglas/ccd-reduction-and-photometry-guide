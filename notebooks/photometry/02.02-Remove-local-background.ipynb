{
 "cells": [
  {
   "cell_type": "markdown",
   "metadata": {},
   "source": [
    "# Remove local background\n",
    "\n",
    "This section draws heavily from the Photutils documentation: https://photutils.readthedocs.io/en/stable/aperture.html"
   ]
  },
  {
   "cell_type": "code",
   "execution_count": null,
   "metadata": {},
   "outputs": [],
   "source": [
    "import numpy as np\n",
    "\n",
    "%matplotlib inline\n",
    "import matplotlib.pyplot as plt\n",
    "\n",
    "from photutils.datasets import load_star_image\n",
    "from photutils.detection import DAOStarFinder\n",
    "from photutils.aperture import (CircularAperture, CircularAnnulus, \n",
    "                                aperture_photometry, ApertureStats)\n",
    "\n",
    "from astropy.visualization import SqrtStretch\n",
    "from astropy.visualization.mpl_normalize import ImageNormalize\n",
    "from astropy.stats import sigma_clipped_stats, SigmaClip\n"
   ]
  },
  {
   "cell_type": "markdown",
   "metadata": {},
   "source": [
    "## First, identify sources\n",
    "\n",
    "This is identical to notebook 01-02"
   ]
  },
  {
   "cell_type": "code",
   "execution_count": null,
   "metadata": {},
   "outputs": [],
   "source": [
    "# photutils allows us to easily access one of their example images\n",
    "hdu = load_star_image()  \n",
    "# We will only consider a small portion of the image, for faster processing\n",
    "data = hdu.data[0:401, 0:401]  \n",
    "\n",
    "# Plot the image with a square-root normalization\n",
    "norm = ImageNormalize(stretch=SqrtStretch())\n",
    "plt.imshow(data, norm=norm, origin='lower', cmap='Greys_r')"
   ]
  },
  {
   "cell_type": "code",
   "execution_count": null,
   "metadata": {},
   "outputs": [],
   "source": [
    "# Use sigma-clipped statistics to estimate the background & background noise\n",
    "clipped_mean, clipped_med, clipped_std = sigma_clipped_stats(data, sigma=3.0) \n",
    "print(clipped_mean, clipped_med, clipped_std)"
   ]
  },
  {
   "cell_type": "code",
   "execution_count": null,
   "metadata": {},
   "outputs": [],
   "source": [
    "daofind = DAOStarFinder(fwhm=3.0, threshold=5.*clipped_std)  \n",
    "sources = daofind(data - clipped_med)  \n",
    "for col in sources.colnames:  \n",
    "    if col not in ('id', 'npix'):\n",
    "        sources[col].info.format = '%.2f'  # for consistent table output\n",
    "sources.pprint(max_width=76)  "
   ]
  },
  {
   "cell_type": "markdown",
   "metadata": {},
   "source": [
    "## Find the flux from one star"
   ]
  },
  {
   "cell_type": "code",
   "execution_count": null,
   "metadata": {},
   "outputs": [],
   "source": [
    "# Select the position of one star\n",
    "# Using \"asarray\" produces a regular array containing floats\n",
    "position = np.asarray([sources[35][\"xcentroid\"],sources[35][\"ycentroid\"]],dtype=\"float64\")\n",
    "print(position)"
   ]
  },
  {
   "cell_type": "code",
   "execution_count": null,
   "metadata": {},
   "outputs": [],
   "source": [
    "# Define our aperture, centered on the star's position, with a radius of three pixels\n",
    "aperture = CircularAperture(position, r=3.0)"
   ]
  },
  {
   "cell_type": "code",
   "execution_count": null,
   "metadata": {},
   "outputs": [],
   "source": [
    "phot_table = aperture_photometry(data, aperture)"
   ]
  },
  {
   "cell_type": "code",
   "execution_count": null,
   "metadata": {},
   "outputs": [],
   "source": [
    "phot_table"
   ]
  },
  {
   "cell_type": "markdown",
   "metadata": {},
   "source": [
    "Note that this just gives us the sum of the counts within our defined aperture. This includes the background!\n",
    "\n",
    "To calculate the background level, we need to define an annulus around our target position"
   ]
  },
  {
   "cell_type": "code",
   "execution_count": null,
   "metadata": {},
   "outputs": [],
   "source": [
    "annulus_aperture = CircularAnnulus(position, r_in=7, r_out=12)\n",
    "bkgd_table = aperture_photometry(data, annulus_aperture)"
   ]
  },
  {
   "cell_type": "code",
   "execution_count": null,
   "metadata": {},
   "outputs": [],
   "source": [
    "bkgd_table"
   ]
  },
  {
   "cell_type": "markdown",
   "metadata": {},
   "source": [
    "Our background counts are higher than our source counts! This should not be surprising, though, since the background annulus has many more pixels.\n",
    "\n",
    "To calculate the area within an aperture, we use the `.area_overlap` method, which compares the aperture to the image and returns the number of good (i.e., non-masked) pixels within the aperture"
   ]
  },
  {
   "cell_type": "code",
   "execution_count": null,
   "metadata": {},
   "outputs": [],
   "source": [
    "source_area = aperture.area_overlap(data)\n",
    "bkgd_area = annulus_aperture.area_overlap(data)"
   ]
  },
  {
   "cell_type": "code",
   "execution_count": null,
   "metadata": {},
   "outputs": [],
   "source": [
    "print(source_area,bkgd_area)"
   ]
  },
  {
   "cell_type": "code",
   "execution_count": null,
   "metadata": {},
   "outputs": [],
   "source": [
    "# Calculate the background counts per pixel\n",
    "bkgd_per_pixel = bkgd_table[\"aperture_sum\"][0] / bkgd_area"
   ]
  },
  {
   "cell_type": "code",
   "execution_count": null,
   "metadata": {},
   "outputs": [],
   "source": [
    "# Determine the total background counts within the source aperture\n",
    "bkgd_in_source = bkgd_per_pixel * source_area"
   ]
  },
  {
   "cell_type": "code",
   "execution_count": null,
   "metadata": {},
   "outputs": [],
   "source": [
    "# Subtract the background from the source counts\n",
    "source_counts = phot_table[\"aperture_sum\"][0] - bkgd_in_source\n",
    "print(source_counts)"
   ]
  },
  {
   "cell_type": "markdown",
   "metadata": {},
   "source": [
    "Nearly half of the counts within our source aperture are actually background counts!"
   ]
  },
  {
   "cell_type": "code",
   "execution_count": null,
   "metadata": {},
   "outputs": [],
   "source": [
    "# Let's plot just the region around our star, and show our apertures\n",
    "norm = ImageNormalize(stretch=SqrtStretch())\n",
    "plt.imshow(data, norm=norm, origin='lower', cmap='Greys_r',zorder=-5)\n",
    "\n",
    "ap_patches = aperture.plot(color='red', lw=2,\n",
    "                           label='Photometry aperture',zorder=1)\n",
    "ann_patches = annulus_aperture.plot(color='yellow', lw=2,\n",
    "                                    label='Background annulus',zorder=2)\n",
    "handles = (ap_patches[0], ann_patches[0])\n",
    "plt.legend(loc=(0.17, 0.05), facecolor='k', labelcolor='white',\n",
    "           handles=handles, prop={'weight': 'bold', 'size': 11})\n",
    "\n",
    "plt.xlim(120,180)\n",
    "plt.ylim(55,105)"
   ]
  },
  {
   "cell_type": "markdown",
   "metadata": {},
   "source": [
    "### Sigma clipping\n",
    "\n",
    "In the image above, we can see that our background annulus just barely overlaps with the image of a nearby star. This is not uncommon, particularly in crowded fields. \n",
    "\n",
    "We may also encounter things like cosmic rays in the background annulus, which can inflate our background count despite not reflecting the true background levels. Therefore, it is more common to compute a sigma-clipped median of the background counts per pixel.\n",
    "\n",
    "The `ApertureStats` class will handle some of the computations that we did by hand in the previous section. It will compute several statistics about the pixels within the aperture."
   ]
  },
  {
   "cell_type": "code",
   "execution_count": null,
   "metadata": {},
   "outputs": [],
   "source": [
    "sigclip = SigmaClip(sigma=3.0, maxiters=10)\n",
    "\n",
    "# We don't want to do any sigma clipping on our photometry / source aperture\n",
    "aper_stats = ApertureStats(data, aperture, sigma_clip=None)\n",
    "\n",
    "# We do want sigma clipping when analyzing the background annulus\n",
    "bkg_stats = ApertureStats(data, annulus_aperture, sigma_clip=sigclip)"
   ]
  },
  {
   "cell_type": "code",
   "execution_count": null,
   "metadata": {},
   "outputs": [],
   "source": [
    "# We want the median value\n",
    "print(f\"From the previous section: {bkgd_per_pixel:.2f}\")\n",
    "print(\"Sigma clipped:\",bkg_stats.median)"
   ]
  },
  {
   "cell_type": "code",
   "execution_count": null,
   "metadata": {},
   "outputs": [],
   "source": [
    "# As before, we multiply the median background value by the number of \n",
    "# pixels in the photometry aperture\n",
    "total_bkg = bkg_stats.median * aper_stats.sum_aper_area.value\n",
    "print(total_bkg) "
   ]
  },
  {
   "cell_type": "code",
   "execution_count": null,
   "metadata": {},
   "outputs": [],
   "source": [
    "# Then the background-subtracted counts for our source is given by\n",
    "apersum_bkgsub = aper_stats.sum - total_bkg\n",
    "print(apersum_bkgsub)  "
   ]
  },
  {
   "cell_type": "code",
   "execution_count": null,
   "metadata": {},
   "outputs": [],
   "source": [
    "# Finally, let's recompute our statistics on the source, accounting for the \n",
    "# local background values. \n",
    "# ApertureStats takes a local_bkg keyword that accepts the per-pixel value\n",
    "\n",
    "aper_stats_bkgsub = ApertureStats(data, aperture,\n",
    "                                  local_bkg=bkg_stats.median)\n",
    "\n",
    "# The total counts within the aperture should match what we calculated \n",
    "# in the previous cell\n",
    "print(aper_stats_bkgsub.sum)"
   ]
  },
  {
   "cell_type": "markdown",
   "metadata": {},
   "source": [
    "## Your turn - Subtract the background from all of the sources in our list\n",
    "\n",
    "Hint: your first step is to create a list or array of (x, y) pairs. You can provide that list or array to the Aperture classes and it will produce apertures at every location. See notebook 01-02 for an example.\n",
    "\n",
    "Consult the Photutils documentation and you'll see that all of the apertures can accept a list or array of positions. Then other functions will run on every position identified in the aperture object. "
   ]
  },
  {
   "cell_type": "code",
   "execution_count": null,
   "metadata": {},
   "outputs": [],
   "source": []
  }
 ],
 "metadata": {
  "kernelspec": {
   "display_name": "Python 3 (ipykernel)",
   "language": "python",
   "name": "python3"
  },
  "language_info": {
   "codemirror_mode": {
    "name": "ipython",
    "version": 3
   },
   "file_extension": ".py",
   "mimetype": "text/x-python",
   "name": "python",
   "nbconvert_exporter": "python",
   "pygments_lexer": "ipython3",
   "version": "3.8.16"
  }
 },
 "nbformat": 4,
 "nbformat_minor": 2
}
