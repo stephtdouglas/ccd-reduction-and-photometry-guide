{
 "cells": [
  {
   "cell_type": "markdown",
   "id": "fa60fcc9",
   "metadata": {},
   "source": [
    "# Time series photometry\n",
    "\n",
    "Observing the same target repeatedly is called \"time series photometry\", because we are measuring the target's brightness at different times. A dataset containing brightness measurements over time is frequently called a \"light curve\""
   ]
  },
  {
   "cell_type": "code",
   "execution_count": null,
   "id": "9bb0320f",
   "metadata": {},
   "outputs": [],
   "source": [
    "import numpy as np\n",
    "\n",
    "%matplotlib inline\n",
    "import matplotlib.pyplot as plt\n",
    "\n",
    "from astropy.visualization import SqrtStretch\n",
    "from astropy.visualization.mpl_normalize import ImageNormalize\n",
    "from astropy.stats import sigma_clipped_stats, SigmaClip"
   ]
  },
  {
   "cell_type": "code",
   "execution_count": null,
   "id": "ea0dca9f",
   "metadata": {},
   "outputs": [],
   "source": [
    "# Set up a random number generator\n",
    "rng = np.random.default_rng(seed=42)"
   ]
  },
  {
   "cell_type": "code",
   "execution_count": null,
   "id": "2a7b534f",
   "metadata": {},
   "outputs": [],
   "source": [
    "# Generate a fake light curve for a target\n",
    "times = np.linspace(0,6,150) #hours\n",
    "noise = 12\n",
    "mean_target = 255\n",
    "target_cts_raw = np.ones(len(times))* mean_target\n",
    "target_cts_raw[63:85] = target_cts_raw[13:35]-74\n",
    "\n",
    "\n",
    "# Generate a fake light curve for a \"check star\"\n",
    "check_cts_raw = 127\n",
    "\n",
    "# Add a systematic trend to both stars, plus noise\n",
    "m, b = 0.5, 0.5\n",
    "systematic = b + m*times\n",
    "\n",
    "target_cts = target_cts_raw * systematic + rng.normal(loc=0,scale=noise,size=len(times))\n",
    "check_cts = check_cts_raw * systematic + rng.normal(loc=0,scale=noise,size=len(times))"
   ]
  },
  {
   "cell_type": "code",
   "execution_count": null,
   "id": "80984c5d",
   "metadata": {
    "scrolled": false
   },
   "outputs": [],
   "source": [
    "# Plot the light curves\n",
    "plt.plot(times,target_cts,'o')\n",
    "plt.plot(times,check_cts,'o')"
   ]
  },
  {
   "cell_type": "markdown",
   "id": "9731d98b",
   "metadata": {},
   "source": [
    "There is a visible trend in both light curves, where they get brighter as the observation goes on. This suggests that there is some kind of systematic effect happening, which is affecting all of the stars in the image. We want to remove that effect, so that we'll be left with just the variations from the target system.\n",
    "\n",
    "These trends are generally multiplicative in flux - meaning, the flux is reduced or increased by some fractional amount. If we're working in counts or flux units, then we divide the target's light curve by the check star's light curve to obtain the relative change in flux. \n",
    "\n",
    "If we've already converted our brightness measurements into magnitudes, then we would calculate the difference between the target and check star (because a magnitude difference already measures a ratio of fluxes). "
   ]
  },
  {
   "cell_type": "code",
   "execution_count": null,
   "id": "a6c17f1d",
   "metadata": {},
   "outputs": [],
   "source": [
    "# Remove the systematic trend by dividing it out\n",
    "plt.plot(times,target_cts/check_cts,'o')"
   ]
  },
  {
   "cell_type": "markdown",
   "id": "bf7ccc68",
   "metadata": {},
   "source": [
    "Now the light curve is relatively flat, and we can see a clear dip in brightness. In real data, a similar dip would indicate a transiting planet or eclipsing binary. "
   ]
  },
  {
   "cell_type": "code",
   "execution_count": null,
   "id": "53e593d3",
   "metadata": {},
   "outputs": [],
   "source": []
  }
 ],
 "metadata": {
  "kernelspec": {
   "display_name": "Python 3 (ipykernel)",
   "language": "python",
   "name": "python3"
  },
  "language_info": {
   "codemirror_mode": {
    "name": "ipython",
    "version": 3
   },
   "file_extension": ".py",
   "mimetype": "text/x-python",
   "name": "python",
   "nbconvert_exporter": "python",
   "pygments_lexer": "ipython3",
   "version": "3.8.16"
  }
 },
 "nbformat": 4,
 "nbformat_minor": 5
}
