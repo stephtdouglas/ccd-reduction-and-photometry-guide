{
 "cells": [
  {
   "cell_type": "markdown",
   "id": "b73a11c8",
   "metadata": {},
   "source": [
    "# Centroiding\n",
    "\n",
    "The centroid of an object refers to its center of light (similar to center of mass, except we mean the center of the point spread function instead of a mass distribution). Centroiding therefore refers to finding the center of a particular source, generally so that we can accurately place a photometric aperture around it. \n",
    "\n",
    "Photutils has a convenient module dedicated to finding centroids (`photutils.centroids`). "
   ]
  },
  {
   "cell_type": "code",
   "execution_count": null,
   "id": "2b5810f1",
   "metadata": {},
   "outputs": [],
   "source": [
    "import numpy as np\n",
    "\n",
    "%matplotlib inline\n",
    "import matplotlib.pyplot as plt\n",
    "\n",
    "from photutils.datasets import load_star_image\n",
    "from photutils.detection import DAOStarFinder\n",
    "from photutils.aperture import CircularAperture\n",
    "from photutils.centroids import centroid_sources\n",
    "import photutils.centroids as centroids\n",
    "\n",
    "from astropy.visualization import SqrtStretch\n",
    "from astropy.visualization.mpl_normalize import ImageNormalize\n",
    "from astropy.stats import sigma_clipped_stats, SigmaClip"
   ]
  },
  {
   "cell_type": "markdown",
   "id": "229abae0",
   "metadata": {},
   "source": [
    "## First, identify sources\n",
    "\n",
    "This is identical to notebook 01-02"
   ]
  },
  {
   "cell_type": "code",
   "execution_count": null,
   "id": "081b0d1d",
   "metadata": {},
   "outputs": [],
   "source": [
    "# photutils allows us to easily access one of their example images\n",
    "hdu = load_star_image()  \n",
    "# We will only consider a small portion of the image, for faster processing\n",
    "data = hdu.data[0:401, 0:401]  \n",
    "\n",
    "# Plot the image with a square-root normalization\n",
    "norm = ImageNormalize(stretch=SqrtStretch())\n",
    "plt.imshow(data, norm=norm, origin='lower', cmap='Greys_r')"
   ]
  },
  {
   "cell_type": "code",
   "execution_count": null,
   "id": "dec95750",
   "metadata": {},
   "outputs": [],
   "source": [
    "# Use sigma-clipped statistics to estimate the background & background noise\n",
    "clipped_mean, clipped_med, clipped_std = sigma_clipped_stats(data, sigma=3.0) \n",
    "print(clipped_mean, clipped_med, clipped_std)\n",
    "\n",
    "# Identify sources\n",
    "daofind = DAOStarFinder(fwhm=3.0, threshold=5.*clipped_std)  \n",
    "sources = daofind(data - clipped_med)"
   ]
  },
  {
   "cell_type": "markdown",
   "id": "ef24decc",
   "metadata": {},
   "source": [
    "Note that the source finder already identifies a centroid for each object, and gives us the x and y coordinate of that centroid"
   ]
  },
  {
   "cell_type": "code",
   "execution_count": null,
   "id": "490da7bf",
   "metadata": {},
   "outputs": [],
   "source": [
    "for col in sources.colnames:  \n",
    "    if col not in ('id', 'npix'):\n",
    "        sources[col].info.format = '%.2f'  # for consistent table output\n",
    "sources.pprint(max_width=76)  "
   ]
  },
  {
   "cell_type": "code",
   "execution_count": null,
   "id": "bf560fac",
   "metadata": {},
   "outputs": [],
   "source": [
    "sources.show_in_notebook()"
   ]
  },
  {
   "cell_type": "markdown",
   "id": "8b258680",
   "metadata": {},
   "source": [
    "However, we don't always need or want to run a full source-finding analysis on every image we work with. Sometimes we know the location of our target star already, or at least the approximate location.\n",
    "\n",
    "## Centroid of a single star\n",
    "\n",
    "For example, let's consider the bright star around x=300 and y=95 in our original image. `photutils.centroids` offers us several different ways to calculate the centroid of a given object:\n",
    "\n",
    "* `centroid_com`: Calculates the object\n",
    "  \"center of mass\" from 2D image moments.\n",
    "\n",
    "* `centroid_quadratic`: Calculates the\n",
    "  centroid by fitting a 2D quadratic polynomial to the data.\n",
    "\n",
    "* `centroid_1dg`: Calculates the centroid\n",
    "  by fitting 1D Gaussians to the marginal ``x`` and ``y``\n",
    "  distributions of the data.\n",
    "\n",
    "* `centroid_2dg`: Calculates the centroid\n",
    "  by fitting a 2D Gaussian to the 2D distribution of the data."
   ]
  },
  {
   "cell_type": "code",
   "execution_count": null,
   "id": "30d62aaa",
   "metadata": {},
   "outputs": [],
   "source": [
    "# First, subtract the background from the whole image\n",
    "bkg_sub_data = data - clipped_med\n",
    "# Then trim just to the region of interest\n",
    "subregion = bkg_sub_data[75:115,280:320]"
   ]
  },
  {
   "cell_type": "code",
   "execution_count": null,
   "id": "b0bfd7cb",
   "metadata": {},
   "outputs": [],
   "source": [
    "# centroid_com Calculates the object \"center of mass\" from 2D image moments.\n",
    "# We don't give it any initial guesses, it's just going to find the weighted center\n",
    "# of all the light in the image\n",
    "x1, y1 = centroids.centroid_com(subregion)\n",
    "print(x1,y1)"
   ]
  },
  {
   "cell_type": "code",
   "execution_count": null,
   "id": "97d6eb73",
   "metadata": {},
   "outputs": [],
   "source": [
    "# centroid_com Calculates the centroid of an n-dimensional array by fitting a 2D quadratic polynomial.\n",
    "# We can provide it an initial guess for its fit, or let it use the brightest pixel as the starting point\n",
    "x2, y2 = centroids.centroid_quadratic(subregion,xpeak=21,ypeak=20,fit_boxsize=13,search_boxsize=3)\n",
    "print(x2,y2)"
   ]
  },
  {
   "cell_type": "code",
   "execution_count": null,
   "id": "1199dea7",
   "metadata": {},
   "outputs": [],
   "source": [
    "# centroid_com Calculates the centroid of a 2D array by fitting 1D Gaussians \n",
    "# to the marginal x and y distributions of the array.\n",
    "# We don't give it any initial guesses, it's just going to find the center of the brightest thing there\n",
    "x3, y3 = centroids.centroid_1dg(subregion)\n",
    "print(x3,y3)"
   ]
  },
  {
   "cell_type": "code",
   "execution_count": null,
   "id": "3dd26065",
   "metadata": {},
   "outputs": [],
   "source": [
    "# centroid_com Calculates the centroid of a 2D array by fitting a 2D gaussian to x and y together\n",
    "# We don't give it any initial guesses, it's just going to find the center of the brightest thing there\n",
    "x4, y4 = centroids.centroid_2dg(subregion)\n",
    "print(x4,y4)"
   ]
  },
  {
   "cell_type": "code",
   "execution_count": null,
   "id": "5be4c70f",
   "metadata": {},
   "outputs": [],
   "source": [
    "# Plot the image with a square-root normalization\n",
    "norm = ImageNormalize(stretch=SqrtStretch())\n",
    "plt.imshow(subregion, norm=norm, origin='lower', cmap='Greys_r')\n",
    "plt.plot(x1,y1,'+')\n",
    "plt.plot(x2,y2,'+')\n",
    "plt.plot(x3,y3,'+')\n",
    "plt.plot(x4,y4,'+')"
   ]
  },
  {
   "cell_type": "markdown",
   "id": "91721de3",
   "metadata": {},
   "source": [
    "The blue cross (from the center-of-mass calculation) is clearly offset because there's another source in the image. This is similar to the center of mass of a binary system, which is not at the center of the more massive object, but offset along the line between the two objects.\n",
    "\n",
    "The quadratic fit is closer to the center of the brighter object (our target), but a little offset towards the fainter one. \n",
    "\n",
    "The other two guesses are very close, and basically on top of each other. Since we are looking at stars which ideally have round images on the CCD, the choice of fitting 1d or 2d Gaussians doesn't make much of a difference. If we were working with galaxies or if there are significant distortions, a 2d Gaussian might produce a better solution. "
   ]
  },
  {
   "cell_type": "markdown",
   "id": "a436d56d",
   "metadata": {},
   "source": [
    "## Finding the centroids of multiple sources at once\n",
    "\n",
    "Very rarely in astronomy do we actually study only a single star in an image! Therefore, we will want to find the positions of many stars at once. For this, we use the `centroid_sources` function. This function requires an image, initial x and y guesses for each star, the number of pixels around each star to consider, and a choice of centroiding function. \n",
    "\n",
    "We'll return to our full example image (background subtracted) for this one. "
   ]
  },
  {
   "cell_type": "code",
   "execution_count": null,
   "id": "1e0c5fb0",
   "metadata": {},
   "outputs": [],
   "source": [
    "x_init = np.array([110, 270, 152, 84])\n",
    "y_init = np.array([130, 220, 275, 244])"
   ]
  },
  {
   "cell_type": "code",
   "execution_count": null,
   "id": "7a66dfc5",
   "metadata": {},
   "outputs": [],
   "source": [
    "x_all, y_all = centroid_sources(bkg_sub_data, x_init, y_init, box_size=13, centroid_func=centroids.centroid_2dg)"
   ]
  },
  {
   "cell_type": "code",
   "execution_count": null,
   "id": "8ece6852",
   "metadata": {},
   "outputs": [],
   "source": [
    "for x, y in zip(x_all,y_all):\n",
    "    print(x,y)"
   ]
  },
  {
   "cell_type": "markdown",
   "id": "2cf6ce1e",
   "metadata": {},
   "source": [
    "In time-series photometry, we want to find the position of our target and one (or more) comparison stars in every image we take. Ideally, each star will stay in roughly the same position from exposure to exposure. However, it likely won't be stable to within 1/100th of a pixel. \n",
    "\n",
    "Therefore, we don't need to run source-finding in every image of a series. You will want to use the position in one image as the initial guess for the position in the next image."
   ]
  },
  {
   "cell_type": "code",
   "execution_count": null,
   "id": "f58a03b8",
   "metadata": {},
   "outputs": [],
   "source": []
  }
 ],
 "metadata": {
  "kernelspec": {
   "display_name": "Python 3 (ipykernel)",
   "language": "python",
   "name": "python3"
  },
  "language_info": {
   "codemirror_mode": {
    "name": "ipython",
    "version": 3
   },
   "file_extension": ".py",
   "mimetype": "text/x-python",
   "name": "python",
   "nbconvert_exporter": "python",
   "pygments_lexer": "ipython3",
   "version": "3.8.16"
  }
 },
 "nbformat": 4,
 "nbformat_minor": 5
}
